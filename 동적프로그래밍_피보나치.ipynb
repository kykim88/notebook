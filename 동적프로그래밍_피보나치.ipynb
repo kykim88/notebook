{
  "nbformat": 4,
  "nbformat_minor": 0,
  "metadata": {
    "colab": {
      "name": "동적프로그래밍_피보나치.ipynb",
      "provenance": [],
      "collapsed_sections": [],
      "authorship_tag": "ABX9TyN+n0W7sX64fJ+Z3pkMQpTt",
      "include_colab_link": true
    },
    "kernelspec": {
      "name": "python3",
      "display_name": "Python 3"
    }
  },
  "cells": [
    {
      "cell_type": "markdown",
      "metadata": {
        "id": "view-in-github",
        "colab_type": "text"
      },
      "source": [
        "<a href=\"https://colab.research.google.com/github/kykim88/notebook/blob/master/%EB%8F%99%EC%A0%81%ED%94%84%EB%A1%9C%EA%B7%B8%EB%9E%98%EB%B0%8D_%ED%94%BC%EB%B3%B4%EB%82%98%EC%B9%98.ipynb\" target=\"_parent\"><img src=\"https://colab.research.google.com/assets/colab-badge.svg\" alt=\"Open In Colab\"/></a>"
      ]
    },
    {
      "cell_type": "code",
      "metadata": {
        "id": "CohXe1XTUNqH",
        "colab_type": "code",
        "colab": {
          "base_uri": "https://localhost:8080/",
          "height": 35
        },
        "outputId": "8e6a5ac0-02c5-423a-a343-4df29d472150"
      },
      "source": [
        "'''\n",
        "피보나치 - 재귀함수\n",
        "a0 = 1\n",
        "a1 = 1\n",
        "a2 = 2\n",
        "a3 = 3\n",
        "a4 = 5\n",
        "a5 = 8\n",
        "a6 = 13\n",
        "'''"
      ],
      "execution_count": 3,
      "outputs": [
        {
          "output_type": "execute_result",
          "data": {
            "application/vnd.google.colaboratory.intrinsic": {
              "type": "string"
            },
            "text/plain": [
              "'\\n피보나치 - 재귀함수\\na0 = 1\\na1 = 1\\na2 = 2\\na3 = 3\\na4 = 5\\na5 = 8\\na6 = 13\\n'"
            ]
          },
          "metadata": {
            "tags": []
          },
          "execution_count": 3
        }
      ]
    },
    {
      "cell_type": "markdown",
      "metadata": {
        "id": "SqFbywS5U3GO",
        "colab_type": "text"
      },
      "source": [
        "# 재귀함수로 구현"
      ]
    },
    {
      "cell_type": "code",
      "metadata": {
        "id": "G5oB3aFtUn7p",
        "colab_type": "code",
        "colab": {}
      },
      "source": [
        "def fibo(n):\n",
        "    if n < 2:\n",
        "        return 1\n",
        "    else:\n",
        "        return fibo(n-1) + fibo(n-2)"
      ],
      "execution_count": 4,
      "outputs": []
    },
    {
      "cell_type": "code",
      "metadata": {
        "id": "ckcBkZQFUqf9",
        "colab_type": "code",
        "colab": {
          "base_uri": "https://localhost:8080/",
          "height": 35
        },
        "outputId": "275d2282-cd7c-4f95-d675-b1e9fdfd6997"
      },
      "source": [
        "%%timeit -n 10\n",
        "n = 30\n",
        "fibo(n)"
      ],
      "execution_count": 11,
      "outputs": [
        {
          "output_type": "stream",
          "text": [
            "10 loops, best of 3: 270 ms per loop\n"
          ],
          "name": "stdout"
        }
      ]
    },
    {
      "cell_type": "markdown",
      "metadata": {
        "id": "ny1OVo_4U_qQ",
        "colab_type": "text"
      },
      "source": [
        "# 동적프로그래밍 - memoization 방식 (메모리에 값 저장)"
      ]
    },
    {
      "cell_type": "code",
      "metadata": {
        "id": "aX3tGXiRUw1z",
        "colab_type": "code",
        "colab": {}
      },
      "source": [
        "def memoization_fibo(n , memo):    \n",
        "    if memo[n] != 0:\n",
        "        return memo[n]\n",
        "    \n",
        "    if (n == 0 or n == 1):\n",
        "        memo[n] = 1\n",
        "    else:        \n",
        "        memo[n] = memoization_fibo(n-1, memo) + memoization_fibo(n-2, memo)\n",
        "    return memo[n]\n"
      ],
      "execution_count": 7,
      "outputs": []
    },
    {
      "cell_type": "code",
      "metadata": {
        "id": "TP8LMl9uUxxz",
        "colab_type": "code",
        "colab": {
          "base_uri": "https://localhost:8080/",
          "height": 35
        },
        "outputId": "ba80ab82-5c26-40ab-c0be-0cc4d51b730e"
      },
      "source": [
        "%%timeit -n 10\n",
        "n = 30\n",
        "memo= [0 for i in range(n + 2)]\n",
        "memoization_fibo(n, memo)"
      ],
      "execution_count": 13,
      "outputs": [
        {
          "output_type": "stream",
          "text": [
            "10 loops, best of 3: 18.6 µs per loop\n"
          ],
          "name": "stdout"
        }
      ]
    },
    {
      "cell_type": "markdown",
      "metadata": {
        "id": "H_u6VyiNVIvY",
        "colab_type": "text"
      },
      "source": [
        "# 동적프로그래밍 - bottom_up 방식"
      ]
    },
    {
      "cell_type": "code",
      "metadata": {
        "id": "oHGltcqsWenP",
        "colab_type": "code",
        "colab": {}
      },
      "source": [
        "def bottom_up_fibo(n):\n",
        "    l = [0 for i in range(n+2)]\n",
        "    l[0] = 1\n",
        "    l[1] = 1\n",
        "    \n",
        "    if n < 2:\n",
        "        return l[n]\n",
        "    \n",
        "    for i in range(2, n+1):\n",
        "        l[i] = l[i-1] + l[i-2]\n",
        "        \n",
        "    return l[i]"
      ],
      "execution_count": 14,
      "outputs": []
    },
    {
      "cell_type": "code",
      "metadata": {
        "id": "tZ0LE3TdWsEU",
        "colab_type": "code",
        "colab": {
          "base_uri": "https://localhost:8080/",
          "height": 35
        },
        "outputId": "901843d0-67c4-4119-cb38-6ae8bae573e4"
      },
      "source": [
        "%%timeit -n 10\n",
        "n = 30\n",
        "bottom_up_fibo(n)"
      ],
      "execution_count": 15,
      "outputs": [
        {
          "output_type": "stream",
          "text": [
            "10 loops, best of 3: 4.84 µs per loop\n"
          ],
          "name": "stdout"
        }
      ]
    },
    {
      "cell_type": "code",
      "metadata": {
        "id": "xtx_ctaFWu93",
        "colab_type": "code",
        "colab": {}
      },
      "source": [
        ""
      ],
      "execution_count": null,
      "outputs": []
    }
  ]
}